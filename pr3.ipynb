{
 "cells": [
  {
   "cell_type": "code",
   "execution_count": null,
   "metadata": {},
   "outputs": [],
   "source": []
  },
  {
   "cell_type": "code",
   "execution_count": null,
   "metadata": {},
   "outputs": [],
   "source": [
    "N = 289326\n",
    "# Find layer that N is on\n",
    "from math import *\n",
    "sq = floor(sqrt(N-1)) \n",
    "sqOdd = (sq + sq%2 - 1)\n",
    "\n",
    "\n",
    "layer = floor(sqOdd/2) +1\n",
    "layerSide = layer*2 + 1\n",
    "\n",
    "# print('layerSide:',layerSide)\n",
    "# print('layer: ',layer)\n",
    "# print('sqOdd: ',sqOdd)\n",
    "# lM1: right of center: 2, 11, 28...\n",
    "layerMarker1 = sqOdd*sqOdd + layer\n",
    "\n",
    "Markers = [layerMarker1 +i*(layerSide-1) for i in range(4)]\n",
    "# print(Markers)\n",
    "\n",
    "mDist = min([abs(N-i) for i in Markers])\n",
    "print(mDist+layer)"
   ]
  },
  {
   "cell_type": "code",
   "execution_count": 155,
   "metadata": {},
   "outputs": [
    {
     "name": "stdout",
     "output_type": "stream",
     "text": [
      "Solution: 295229\n"
     ]
    }
   ],
   "source": [
    "import numpy as np\n",
    "# initialize array 3x3\n",
    "A = np.array([[5,4,2],[10,1,1]], dtype=int)\n",
    "\n",
    "\n",
    "# loop\n",
    "solFound = False\n",
    "while(not solFound):\n",
    "    # Add layer of 0 to bottom of array\n",
    "    A = np.vstack([A,A.shape[1]*[0]])\n",
    "\n",
    "    # Fill bottom layer \n",
    "    AShape1 = A.shape[1]\n",
    "    for i in range(AShape1):\n",
    "        A[-1][i] = A[-2][i]\n",
    "        if(i>0):\n",
    "            A[-1][i] = A[-1][i] + A[-2][i-1] + A[-1][i-1]\n",
    "        if(i<AShape1-1):\n",
    "            A[-1][i] = A[-1][i] + A[-2][i+1] \n",
    "        if(A[-1][i] > N):\n",
    "            print('Solution:',A[-1][i])\n",
    "            solFound = True\n",
    "            break\n",
    "    A = np.rot90(A,k=1,axes =(1,0))\n",
    "    "
   ]
  }
 ],
 "metadata": {
  "kernelspec": {
   "display_name": "Python 3.9.13 ('base')",
   "language": "python",
   "name": "python3"
  },
  "language_info": {
   "codemirror_mode": {
    "name": "ipython",
    "version": 3
   },
   "file_extension": ".py",
   "mimetype": "text/x-python",
   "name": "python",
   "nbconvert_exporter": "python",
   "pygments_lexer": "ipython3",
   "version": "3.9.13"
  },
  "orig_nbformat": 4,
  "vscode": {
   "interpreter": {
    "hash": "7672c032c71307a9d2e2de933bc31a203109ac0f3b59d326ba27acf02560982c"
   }
  }
 },
 "nbformat": 4,
 "nbformat_minor": 2
}
